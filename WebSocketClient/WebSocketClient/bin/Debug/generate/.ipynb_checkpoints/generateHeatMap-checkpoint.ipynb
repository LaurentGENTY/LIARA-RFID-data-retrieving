{
 "cells": [
  {
   "cell_type": "code",
   "execution_count": 4,
   "metadata": {},
   "outputs": [
    {
     "data": {
      "image/png": "[encoded data removed]",
      "text/plain": [
       "<matplotlib.figure.Figure at 0x235e7c65518>"
      ]
     },
     "metadata": {},
     "output_type": "display_data"
    }
   ],
   "source": [
    "import pandas as pd\n",
    "from pandas import DataFrame\n",
    "import numpy as np\n",
    "import datetime\n",
    "import pandas_datareader as pdr\n",
    "\n",
    "import matplotlib.pyplot as plt\n",
    "\n",
    "#On lit le dernier csv possédant une structure :\n",
    "#Distance ; 0; 23; 45; 90; 120; 180\n",
    "#0        ; .;  .;  .;  .;   .;   .;\n",
    "#15       ; .;  .;  .;  .;   .;   .;\n",
    "#25       ; .;  .;  .;  .;   .;   .;\n",
    "#40       ; .;  .;  .;  .;   .;   .;\n",
    "#60       ; .;  .;  .;  .;   .;   .;\n",
    "#80       ; .;  .;  .;  .;   .;   .;\n",
    "#100      ; .;  .;  .;  .;   .;   .;\n",
    "#120      ; .;  .;  .;  .;   .;   .;\n",
    "#140      ; .;  .;  .;  .;   .;   .;\n",
    "#160      ; .;  .;  .;  .;   .;   .;\n",
    "#180      ; .;  .;  .;  .;   .;   .;\n",
    "#200      ; .;  .;  .;  .;   .;   .;\n",
    "\n",
    "#Separé par des ; donc l'index est la première colonne\n",
    "df = pd.read_csv('C:/Users/laure/WebSocketClientCSharp/WebSocketClient/WebSocketClient/bin/Debug/xp/data/finalData.csv',sep=';',index_col=0)\n",
    "\n",
    "#notre X sera l'index : la distance\n",
    "x = df.index\n",
    "\n",
    "#notre Y sera l'index : la distance\n",
    "y = df.columns.astype(int)\n",
    "\n",
    "z = df.values\n",
    "\n",
    "X,Y = np.meshgrid(x,y)\n",
    "Z = z.T\n",
    "plt.contourf(X,Y,Z,cmap='jet')\n",
    "\n",
    "plt.colorbar()\n",
    "plt.show()"
   ]
  },
  {
   "cell_type": "code",
   "execution_count": null,
   "metadata": {},
   "outputs": [],
   "source": []
  },
  {
   "cell_type": "code",
   "execution_count": null,
   "metadata": {},
   "outputs": [],
   "source": []
  },
  {
   "cell_type": "code",
   "execution_count": null,
   "metadata": {},
   "outputs": [],
   "source": []
  },
  {
   "cell_type": "code",
   "execution_count": null,
   "metadata": {},
   "outputs": [],
   "source": []
  },
  {
   "cell_type": "code",
   "execution_count": null,
   "metadata": {},
   "outputs": [],
   "source": []
  },
  {
   "cell_type": "code",
   "execution_count": null,
   "metadata": {},
   "outputs": [],
   "source": []
  },
  {
   "cell_type": "code",
   "execution_count": null,
   "metadata": {},
   "outputs": [],
   "source": []
  }
 ],
 "metadata": {
  "kernelspec": {
   "display_name": "Python 3",
   "language": "python",
   "name": "python3"
  },
  "language_info": {
   "codemirror_mode": {
    "name": "ipython",
    "version": 3
   },
   "file_extension": ".py",
   "mimetype": "text/x-python",
   "name": "python",
   "nbconvert_exporter": "python",
   "pygments_lexer": "ipython3",
   "version": "3.6.4"
  }
 },
 "nbformat": 4,
 "nbformat_minor": 2
}
