{
 "cells": [
  {
   "cell_type": "code",
   "execution_count": null,
   "metadata": {},
   "outputs": [],
   "source": [
    "def chooseAntenna() :\n",
    "    \n",
    "    #Fonction qui permet de choisir de générer les données pour une antenne\n",
    "    ok = False\n",
    "    print(\"Which antenna do you want to choose to extract the data ?\\n\")\n",
    "    \n",
    "    antennas = [1,2,3,4,5,6,7,8]\n",
    "    \n",
    "    while ok is False :\n",
    "\n",
    "        answer = input(\">> Antenna \")\n",
    "        \n",
    "        if answer == 'exit':\n",
    "            sys.exit(\"The program will shut down now.\")\n",
    "        \n",
    "        x = 0\n",
    "        found = False\n",
    "        \n",
    "        #Tant qu'on a pas trouvé et que X est plus petit que la taille du array\n",
    "        \n",
    "        while found is False and x < len(antennas) :\n",
    "            \n",
    "            print(\"X : \"+ str(x) + \" | Antennas[X] : \" + str(antennas[x]))\n",
    "            #Si la réponse existe dans le tableau des antennes\n",
    "            \n",
    "            temp = str(antennas[x])\n",
    "            if temp == answer:\n",
    "                \n",
    "                found = True\n",
    "                ok = True\n",
    "                antenna = \"rssi\"+str(x+1)\n",
    "            \n",
    "            x=x+1\n",
    "                \n",
    "        if found is False:\n",
    "            print(\"Antenna not found\")\n",
    "    \n",
    "    return antenna;\n",
    "\n",
    "antenna = chooseAntenna()\n",
    "\n",
    "print(antenna)"
   ]
  },
  {
   "cell_type": "code",
   "execution_count": null,
   "metadata": {},
   "outputs": [],
   "source": []
  },
  {
   "cell_type": "code",
   "execution_count": null,
   "metadata": {},
   "outputs": [],
   "source": []
  },
  {
   "cell_type": "code",
   "execution_count": null,
   "metadata": {},
   "outputs": [],
   "source": []
  }
 ],
 "metadata": {
  "kernelspec": {
   "display_name": "Python 3",
   "language": "python",
   "name": "python3"
  },
  "language_info": {
   "codemirror_mode": {
    "name": "ipython",
    "version": 3
   },
   "file_extension": ".py",
   "mimetype": "text/x-python",
   "name": "python",
   "nbconvert_exporter": "python",
   "pygments_lexer": "ipython3",
   "version": "3.6.4"
  }
 },
 "nbformat": 4,
 "nbformat_minor": 2
}
