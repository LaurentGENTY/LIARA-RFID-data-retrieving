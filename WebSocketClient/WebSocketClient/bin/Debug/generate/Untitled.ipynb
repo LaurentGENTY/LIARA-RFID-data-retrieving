{
 "cells": [
  {
   "cell_type": "code",
   "execution_count": 53,
   "metadata": {},
   "outputs": [
    {
     "data": {
      "image/png": "[encoded data removed]",
      "text/plain": [
       "<Figure size 432x288 with 1 Axes>"
      ]
     },
     "metadata": {},
     "output_type": "display_data"
    }
   ],
   "source": [
    "import pandas as pd\n",
    "from pandas import DataFrame\n",
    "import numpy as np\n",
    "\n",
    "import datetime\n",
    "import pandas_datareader as pdr\n",
    "from mpl_toolkits.mplot3d import axes3d\n",
    "import matplotlib.pyplot as plt\n",
    "\n",
    "import glob, os\n",
    "import time\n",
    "import sys\n",
    "import inspect\n",
    "import fileinput\n",
    "import scipy\n",
    "from scipy import stats\n",
    "import math\n",
    "\n",
    "from progressbar import AnimatedMarker, Bar, BouncingBar, Counter, ETA, \\\n",
    "    AdaptiveETA, FileTransferSpeed, FormatLabel, Percentage, \\\n",
    "    ProgressBar, ReverseBar, RotatingMarker, \\\n",
    "SimpleProgress, Timer\n",
    "\n",
    "df = pd.read_csv(\"C:/Users/laure/WebSocketClientCSharp/WebSocketClient/WebSocketClient/bin/Debug/xp/Poivre/Poivre_5_0.csv\",sep=';',index_col=0,parse_dates=True)\n",
    "\n",
    "#print(x)\n",
    "#print(x.shape)\n",
    "\n",
    "#Après la séquence des valeurs, argument est égal au nombre de valeurs ?\n",
    "\n",
    "#Density permet d'avoir la densité dans les valeurs\n",
    "#Sans density alors on a juste le nombre de valeurs à gauche\n",
    "n, bins, patches = plt.hist(df['rssi1'],bins='auto', density=0)\n",
    "\n",
    "plt.xlabel('RSSI')\n",
    "plt.ylabel('Nombres d\\'échantillons')\n",
    "plt.show()"
   ]
  },
  {
   "cell_type": "code",
   "execution_count": null,
   "metadata": {},
   "outputs": [],
   "source": []
  },
  {
   "cell_type": "code",
   "execution_count": null,
   "metadata": {},
   "outputs": [],
   "source": []
  }
 ],
 "metadata": {
  "kernelspec": {
   "display_name": "Python 3",
   "language": "python",
   "name": "python3"
  },
  "language_info": {
   "codemirror_mode": {
    "name": "ipython",
    "version": 3
   },
   "file_extension": ".py",
   "mimetype": "text/x-python",
   "name": "python",
   "nbconvert_exporter": "python",
   "pygments_lexer": "ipython3",
   "version": "3.6.5"
  }
 },
 "nbformat": 4,
 "nbformat_minor": 2
}
