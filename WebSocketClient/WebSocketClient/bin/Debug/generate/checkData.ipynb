{
 "cells": [
  {
   "cell_type": "code",
   "execution_count": 20,
   "metadata": {},
   "outputs": [
    {
     "name": "stdout",
     "output_type": "stream",
     "text": [
      "C:\\Users\\laure\\WebSocketClientCSharp\\WebSocketClient\\WebSocketClient\\bin\\Debug\\xp\n",
      "Which object do you use to generate data ?\n",
      "Sel\n",
      "The directory exists\n",
      "C:\\Users\\laure\\WebSocketClientCSharp\\WebSocketClient\\WebSocketClient\\bin\\Debug\\xp\\Sel\n",
      "C:\\Users\\laure\\WebSocketClientCSharp\\WebSocketClient\\WebSocketClient\\bin\\Debug\\xp\n"
     ]
    }
   ],
   "source": [
    "import os\n",
    "\n",
    "#Path courant\n",
    "cwd = os.getcwd()\n",
    "print(os.getcwd())\n",
    "\n",
    "#C:\\Users\\laure\\WebSocketClientCSharp\\WebSocketClient\\generate\n",
    "#On va changer de path (cwd, '../WebSocketClient/bin/Debug/xp/'))\n",
    "os.chdir('../xp/')\n",
    "answer = input(\"Which object do you use to generate data ?\\n\")\n",
    "\n",
    "if os.path.isdir(answer):\n",
    "    print(\"The directory exists\")\n",
    "    os.chdir('./'+answer+'/')\n",
    "    print(os.getcwd())\n",
    "\n",
    "else:\n",
    "    print(\"The data's object doesn't exist. Make sure you collected all the necessary data before you execute this script\")\n",
    "    exit()\n",
    "    \n",
    "os.chdir('../')\n",
    "print(os.getcwd())\n",
    "\n"
   ]
  },
  {
   "cell_type": "code",
   "execution_count": null,
   "metadata": {},
   "outputs": [],
   "source": []
  },
  {
   "cell_type": "code",
   "execution_count": null,
   "metadata": {},
   "outputs": [],
   "source": []
  },
  {
   "cell_type": "code",
   "execution_count": null,
   "metadata": {},
   "outputs": [],
   "source": []
  },
  {
   "cell_type": "code",
   "execution_count": null,
   "metadata": {},
   "outputs": [],
   "source": []
  },
  {
   "cell_type": "code",
   "execution_count": null,
   "metadata": {},
   "outputs": [],
   "source": []
  },
  {
   "cell_type": "code",
   "execution_count": null,
   "metadata": {},
   "outputs": [],
   "source": []
  },
  {
   "cell_type": "code",
   "execution_count": null,
   "metadata": {},
   "outputs": [],
   "source": []
  }
 ],
 "metadata": {
  "kernelspec": {
   "display_name": "Python 3",
   "language": "python",
   "name": "python3"
  },
  "language_info": {
   "codemirror_mode": {
    "name": "ipython",
    "version": 3
   },
   "file_extension": ".py",
   "mimetype": "text/x-python",
   "name": "python",
   "nbconvert_exporter": "python",
   "pygments_lexer": "ipython3",
   "version": "3.6.4"
  }
 },
 "nbformat": 4,
 "nbformat_minor": 2
}
